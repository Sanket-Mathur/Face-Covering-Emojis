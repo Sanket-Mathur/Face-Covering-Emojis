{
 "cells": [
  {
   "cell_type": "markdown",
   "metadata": {},
   "source": [
    "# Importing Libraries"
   ]
  },
  {
   "cell_type": "code",
   "execution_count": 30,
   "metadata": {},
   "outputs": [],
   "source": [
    "import math\n",
    "\n",
    "import numpy as np\n",
    "import pandas as pd\n",
    "import matplotlib.pyplot as plt\n",
    "import seaborn as sns\n",
    "\n",
    "from sklearn.model_selection import train_test_split\n",
    "from sklearn.preprocessing import LabelEncoder\n",
    "from sklearn.metrics import classification_report, confusion_matrix\n",
    "\n",
    "import tensorflow as tf\n",
    "from tensorflow.keras.models import Sequential\n",
    "from tensorflow.keras.layers import Flatten, Dense, Conv2D, MaxPooling2D\n",
    "from tensorflow.keras.layers import Dropout, BatchNormalization, LeakyReLU, Activation\n",
    "from tensorflow.keras.callbacks import Callback, EarlyStopping, ReduceLROnPlateau\n",
    "from tensorflow.keras.preprocessing.image import ImageDataGenerator\n",
    "\n",
    "from keras.utils import np_utils"
   ]
  },
  {
   "cell_type": "markdown",
   "metadata": {},
   "source": [
    "# Checking CPU and GPU status"
   ]
  },
  {
   "cell_type": "code",
   "execution_count": 2,
   "metadata": {},
   "outputs": [
    {
     "name": "stdout",
     "output_type": "stream",
     "text": [
      "CPU: 1\n",
      "GPU: 1\n"
     ]
    }
   ],
   "source": [
    "print('CPU: {}'.format(len(tf.config.list_physical_devices('CPU'))))\n",
    "print('GPU: {}'.format(len(tf.config.list_physical_devices('GPU'))))"
   ]
  },
  {
   "cell_type": "markdown",
   "metadata": {},
   "source": [
    "# Loading and Analysing the DataSet"
   ]
  },
  {
   "cell_type": "code",
   "execution_count": 3,
   "metadata": {},
   "outputs": [
    {
     "data": {
      "text/html": [
       "<div>\n",
       "<style scoped>\n",
       "    .dataframe tbody tr th:only-of-type {\n",
       "        vertical-align: middle;\n",
       "    }\n",
       "\n",
       "    .dataframe tbody tr th {\n",
       "        vertical-align: top;\n",
       "    }\n",
       "\n",
       "    .dataframe thead th {\n",
       "        text-align: right;\n",
       "    }\n",
       "</style>\n",
       "<table border=\"1\" class=\"dataframe\">\n",
       "  <thead>\n",
       "    <tr style=\"text-align: right;\">\n",
       "      <th></th>\n",
       "      <th>emotion</th>\n",
       "      <th>pixels</th>\n",
       "      <th>Usage</th>\n",
       "    </tr>\n",
       "  </thead>\n",
       "  <tbody>\n",
       "    <tr>\n",
       "      <th>0</th>\n",
       "      <td>0</td>\n",
       "      <td>70 80 82 72 58 58 60 63 54 58 60 48 89 115 121...</td>\n",
       "      <td>Training</td>\n",
       "    </tr>\n",
       "    <tr>\n",
       "      <th>1</th>\n",
       "      <td>0</td>\n",
       "      <td>151 150 147 155 148 133 111 140 170 174 182 15...</td>\n",
       "      <td>Training</td>\n",
       "    </tr>\n",
       "    <tr>\n",
       "      <th>2</th>\n",
       "      <td>2</td>\n",
       "      <td>231 212 156 164 174 138 161 173 182 200 106 38...</td>\n",
       "      <td>Training</td>\n",
       "    </tr>\n",
       "    <tr>\n",
       "      <th>3</th>\n",
       "      <td>4</td>\n",
       "      <td>24 32 36 30 32 23 19 20 30 41 21 22 32 34 21 1...</td>\n",
       "      <td>Training</td>\n",
       "    </tr>\n",
       "    <tr>\n",
       "      <th>4</th>\n",
       "      <td>6</td>\n",
       "      <td>4 0 0 0 0 0 0 0 0 0 0 0 3 15 23 28 48 50 58 84...</td>\n",
       "      <td>Training</td>\n",
       "    </tr>\n",
       "  </tbody>\n",
       "</table>\n",
       "</div>"
      ],
      "text/plain": [
       "   emotion                                             pixels     Usage\n",
       "0        0  70 80 82 72 58 58 60 63 54 58 60 48 89 115 121...  Training\n",
       "1        0  151 150 147 155 148 133 111 140 170 174 182 15...  Training\n",
       "2        2  231 212 156 164 174 138 161 173 182 200 106 38...  Training\n",
       "3        4  24 32 36 30 32 23 19 20 30 41 21 22 32 34 21 1...  Training\n",
       "4        6  4 0 0 0 0 0 0 0 0 0 0 0 3 15 23 28 48 50 58 84...  Training"
      ]
     },
     "execution_count": 3,
     "metadata": {},
     "output_type": "execute_result"
    }
   ],
   "source": [
    "# loading the dataset\n",
    "\n",
    "data = pd.read_csv('Data/fer2013.csv')\n",
    "data.head()"
   ]
  },
  {
   "cell_type": "code",
   "execution_count": 4,
   "metadata": {},
   "outputs": [
    {
     "data": {
      "text/plain": [
       "(35887, 3)"
      ]
     },
     "execution_count": 4,
     "metadata": {},
     "output_type": "execute_result"
    }
   ],
   "source": [
    "# shape of the dataframe loaded\n",
    "\n",
    "data.shape"
   ]
  },
  {
   "cell_type": "code",
   "execution_count": 5,
   "metadata": {},
   "outputs": [
    {
     "name": "stdout",
     "output_type": "stream",
     "text": [
      "<class 'pandas.core.frame.DataFrame'>\n",
      "RangeIndex: 35887 entries, 0 to 35886\n",
      "Data columns (total 3 columns):\n",
      " #   Column   Non-Null Count  Dtype \n",
      "---  ------   --------------  ----- \n",
      " 0   emotion  35887 non-null  int64 \n",
      " 1   pixels   35887 non-null  object\n",
      " 2   Usage    35887 non-null  object\n",
      "dtypes: int64(1), object(2)\n",
      "memory usage: 841.2+ KB\n"
     ]
    }
   ],
   "source": [
    "# basic analysis\n",
    "\n",
    "data.info()"
   ]
  },
  {
   "cell_type": "code",
   "execution_count": 6,
   "metadata": {},
   "outputs": [
    {
     "name": "stdout",
     "output_type": "stream",
     "text": [
      "[0 2 4 6 3 5 1]\n",
      "['Training' 'PublicTest' 'PrivateTest']\n"
     ]
    }
   ],
   "source": [
    "# checking the values for understanding of usage\n",
    "\n",
    "for i in ['emotion', 'Usage']:\n",
    "    print(data[i].unique())"
   ]
  },
  {
   "cell_type": "code",
   "execution_count": 7,
   "metadata": {},
   "outputs": [
    {
     "data": {
      "text/plain": [
       "48.0"
      ]
     },
     "execution_count": 7,
     "metadata": {},
     "output_type": "execute_result"
    }
   ],
   "source": [
    "# calculate the image size\n",
    "\n",
    "math.sqrt(len(data.pixels[0].split(' ')))"
   ]
  },
  {
   "cell_type": "code",
   "execution_count": 8,
   "metadata": {},
   "outputs": [
    {
     "data": {
      "text/plain": [
       "(35887, 48, 48, 1)"
      ]
     },
     "execution_count": 8,
     "metadata": {},
     "output_type": "execute_result"
    }
   ],
   "source": [
    "# chaning the pixels to numpy array\n",
    "\n",
    "X = data['pixels'].apply(lambda x: np.array(x.split()).reshape(48, 48, 1).astype('float32'))\n",
    "X = np.stack(X, axis=0)\n",
    "X.shape"
   ]
  },
  {
   "cell_type": "code",
   "execution_count": 9,
   "metadata": {},
   "outputs": [
    {
     "data": {
      "text/plain": [
       "(35887,)"
      ]
     },
     "execution_count": 9,
     "metadata": {},
     "output_type": "execute_result"
    }
   ],
   "source": [
    "# extracting y label and declaring the emotions\n",
    "\n",
    "lookup = ('anger', 'disgust', 'fear', 'happiness', 'sadness', 'surprise', 'neutral')\n",
    "y = data['emotion']\n",
    "y.shape"
   ]
  },
  {
   "cell_type": "markdown",
   "metadata": {},
   "source": [
    "# Data Visualization"
   ]
  },
  {
   "cell_type": "code",
   "execution_count": 10,
   "metadata": {},
   "outputs": [
    {
     "data": {
      "image/png": "[encoded data removed]",
      "text/plain": [
       "<Figure size 432x288 with 1 Axes>"
      ]
     },
     "metadata": {
      "needs_background": "light"
     },
     "output_type": "display_data"
    }
   ],
   "source": [
    "# Count of photo with respect to different emotions\n",
    "\n",
    "sns.countplot(x=y)\n",
    "plt.xticks(range(7), lookup);"
   ]
  },
  {
   "cell_type": "code",
   "execution_count": 11,
   "metadata": {},
   "outputs": [
    {
     "name": "stdout",
     "output_type": "stream",
     "text": [
      "Enter Value: 0\n"
     ]
    },
    {
     "data": {
      "image/png": "[encoded data removed]",
      "text/plain": [
       "<Figure size 432x288 with 1 Axes>"
      ]
     },
     "metadata": {
      "needs_background": "light"
     },
     "output_type": "display_data"
    }
   ],
   "source": [
    "# examine the images\n",
    "\n",
    "def plot_index(index):\n",
    "    plt.imshow(X[index], cmap='gray')\n",
    "    plt.title(lookup[y[index]])\n",
    "\n",
    "index = int(input('Enter Value: '))\n",
    "plot_index(index)"
   ]
  },
  {
   "cell_type": "markdown",
   "metadata": {},
   "source": [
    "# Feature Engineering"
   ]
  },
  {
   "cell_type": "code",
   "execution_count": 12,
   "metadata": {},
   "outputs": [
    {
     "data": {
      "text/plain": [
       "(35887, 7)"
      ]
     },
     "execution_count": 12,
     "metadata": {},
     "output_type": "execute_result"
    }
   ],
   "source": [
    "# Label encoding\n",
    "\n",
    "le = LabelEncoder()\n",
    "img_labels = le.fit_transform(y)\n",
    "img_labels = np_utils.to_categorical(img_labels)\n",
    "img_labels.shape"
   ]
  },
  {
   "cell_type": "code",
   "execution_count": 13,
   "metadata": {},
   "outputs": [
    {
     "name": "stdout",
     "output_type": "stream",
     "text": [
      "Before Transformation 255.0\n",
      "After Transformation 1.0\n"
     ]
    }
   ],
   "source": [
    "# dividing the image value by 255.0 so that all values can be filled between 0.0 and 1.0\n",
    "\n",
    "print('Before Transformation', np.max(X))\n",
    "X = X / 255.0\n",
    "print('After Transformation', np.max(X))"
   ]
  },
  {
   "cell_type": "code",
   "execution_count": 14,
   "metadata": {},
   "outputs": [
    {
     "name": "stdout",
     "output_type": "stream",
     "text": [
      "Shape of training set 32298\n",
      "Shape of validation set 3589\n"
     ]
    }
   ],
   "source": [
    "# splitting the dataset into training and testing sets\n",
    "\n",
    "X_train, X_valid, y_train, y_valid = train_test_split(X, img_labels, test_size=0.1, stratify=img_labels)\n",
    "print('Shape of training set', y_train.shape[0])\n",
    "print('Shape of validation set', y_valid.shape[0])"
   ]
  },
  {
   "cell_type": "markdown",
   "metadata": {},
   "source": [
    "# Creating and Training the Model"
   ]
  },
  {
   "cell_type": "code",
   "execution_count": 15,
   "metadata": {},
   "outputs": [],
   "source": [
    "# creating model of convolutional neural network\n",
    "\n",
    "model = Sequential()\n",
    "\n",
    "model.add(\n",
    "    Conv2D(\n",
    "        filters = 64,\n",
    "        kernel_size = (5, 5),\n",
    "        input_shape = (48, 48, 1),\n",
    "        activation = 'elu',\n",
    "        padding = 'same',\n",
    "        kernel_initializer = 'he_normal'\n",
    "    )\n",
    ")\n",
    "model.add(BatchNormalization())\n",
    "\n",
    "model.add(\n",
    "    Conv2D(\n",
    "        filters = 64,\n",
    "        kernel_size = (5, 5),\n",
    "        activation = 'elu',\n",
    "        padding = 'same',\n",
    "        kernel_initializer = 'he_normal'\n",
    "    )\n",
    ")\n",
    "model.add(BatchNormalization())\n",
    "\n",
    "model.add(MaxPooling2D(pool_size = (2, 2)))\n",
    "model.add(Dropout(0.4))\n",
    "\n",
    "model.add(\n",
    "    Conv2D(\n",
    "        filters = 128,\n",
    "        kernel_size = (3, 3),\n",
    "        activation = 'elu',\n",
    "        padding = 'same',\n",
    "        kernel_initializer = 'he_normal'\n",
    "    )\n",
    ")\n",
    "model.add(BatchNormalization())\n",
    "\n",
    "model.add(\n",
    "    Conv2D(\n",
    "        filters = 128,\n",
    "        kernel_size = (3, 3),\n",
    "        activation = 'elu',\n",
    "        padding = 'same',\n",
    "        kernel_initializer = 'he_normal'\n",
    "    )\n",
    ")\n",
    "model.add(BatchNormalization())\n",
    "\n",
    "model.add(MaxPooling2D(pool_size = (2, 2)))\n",
    "model.add(Dropout(0.4))\n",
    "\n",
    "model.add(\n",
    "    Conv2D(\n",
    "        filters = 256,\n",
    "        kernel_size = (3, 3),\n",
    "        activation = 'elu',\n",
    "        padding = 'same',\n",
    "        kernel_initializer = 'he_normal'\n",
    "    )\n",
    ")\n",
    "model.add(BatchNormalization())\n",
    "\n",
    "model.add(\n",
    "    Conv2D(\n",
    "        filters = 256,\n",
    "        kernel_size = (3, 3),\n",
    "        activation = 'elu',\n",
    "        padding = 'same',\n",
    "        kernel_initializer = 'he_normal'\n",
    "    )\n",
    ")\n",
    "model.add(BatchNormalization())\n",
    "\n",
    "model.add(MaxPooling2D(pool_size = (2, 2)))\n",
    "model.add(Dropout(0.4))\n",
    "\n",
    "model.add(Flatten(name='flatten'))\n",
    "        \n",
    "model.add(\n",
    "    Dense(\n",
    "        128,\n",
    "        activation='elu',\n",
    "        kernel_initializer='he_normal',\n",
    "    )\n",
    ")\n",
    "model.add(BatchNormalization())\n",
    "    \n",
    "model.add(Dropout(0.6))\n",
    "    \n",
    "model.add(\n",
    "    Dense(\n",
    "        7,\n",
    "        activation='softmax'\n",
    "    )\n",
    ")"
   ]
  },
  {
   "cell_type": "code",
   "execution_count": 16,
   "metadata": {},
   "outputs": [
    {
     "name": "stdout",
     "output_type": "stream",
     "text": [
      "Model: \"sequential\"\n",
      "_________________________________________________________________\n",
      "Layer (type)                 Output Shape              Param #   \n",
      "=================================================================\n",
      "conv2d (Conv2D)              (None, 48, 48, 64)        1664      \n",
      "_________________________________________________________________\n",
      "batch_normalization (BatchNo (None, 48, 48, 64)        256       \n",
      "_________________________________________________________________\n",
      "conv2d_1 (Conv2D)            (None, 48, 48, 64)        102464    \n",
      "_________________________________________________________________\n",
      "batch_normalization_1 (Batch (None, 48, 48, 64)        256       \n",
      "_________________________________________________________________\n",
      "max_pooling2d (MaxPooling2D) (None, 24, 24, 64)        0         \n",
      "_________________________________________________________________\n",
      "dropout (Dropout)            (None, 24, 24, 64)        0         \n",
      "_________________________________________________________________\n",
      "conv2d_2 (Conv2D)            (None, 24, 24, 128)       73856     \n",
      "_________________________________________________________________\n",
      "batch_normalization_2 (Batch (None, 24, 24, 128)       512       \n",
      "_________________________________________________________________\n",
      "conv2d_3 (Conv2D)            (None, 24, 24, 128)       147584    \n",
      "_________________________________________________________________\n",
      "batch_normalization_3 (Batch (None, 24, 24, 128)       512       \n",
      "_________________________________________________________________\n",
      "max_pooling2d_1 (MaxPooling2 (None, 12, 12, 128)       0         \n",
      "_________________________________________________________________\n",
      "dropout_1 (Dropout)          (None, 12, 12, 128)       0         \n",
      "_________________________________________________________________\n",
      "conv2d_4 (Conv2D)            (None, 12, 12, 256)       295168    \n",
      "_________________________________________________________________\n",
      "batch_normalization_4 (Batch (None, 12, 12, 256)       1024      \n",
      "_________________________________________________________________\n",
      "conv2d_5 (Conv2D)            (None, 12, 12, 256)       590080    \n",
      "_________________________________________________________________\n",
      "batch_normalization_5 (Batch (None, 12, 12, 256)       1024      \n",
      "_________________________________________________________________\n",
      "max_pooling2d_2 (MaxPooling2 (None, 6, 6, 256)         0         \n",
      "_________________________________________________________________\n",
      "dropout_2 (Dropout)          (None, 6, 6, 256)         0         \n",
      "_________________________________________________________________\n",
      "flatten (Flatten)            (None, 9216)              0         \n",
      "_________________________________________________________________\n",
      "dense (Dense)                (None, 128)               1179776   \n",
      "_________________________________________________________________\n",
      "batch_normalization_6 (Batch (None, 128)               512       \n",
      "_________________________________________________________________\n",
      "dropout_3 (Dropout)          (None, 128)               0         \n",
      "_________________________________________________________________\n",
      "dense_1 (Dense)              (None, 7)                 903       \n",
      "=================================================================\n",
      "Total params: 2,395,591\n",
      "Trainable params: 2,393,543\n",
      "Non-trainable params: 2,048\n",
      "_________________________________________________________________\n"
     ]
    }
   ],
   "source": [
    "# checking the summary of the model\n",
    "\n",
    "model.summary()"
   ]
  },
  {
   "cell_type": "code",
   "execution_count": 17,
   "metadata": {},
   "outputs": [],
   "source": [
    "# compile the model\n",
    "\n",
    "model.compile(\n",
    "    loss = 'categorical_crossentropy',\n",
    "    optimizer = 'adam',\n",
    "    metrics = ['accuracy']\n",
    ")"
   ]
  },
  {
   "cell_type": "code",
   "execution_count": 22,
   "metadata": {},
   "outputs": [],
   "source": [
    "# function for early stopping in when change in accuracy is low and ReduceLROnPlateau for learning rate\n",
    "\n",
    "early_stopping = EarlyStopping(\n",
    "    monitor='val_accuracy',\n",
    "    min_delta=0.00005,\n",
    "    patience=11,\n",
    "    verbose=1,\n",
    "    restore_best_weights=True,\n",
    ")\n",
    "\n",
    "lr_scheduler = ReduceLROnPlateau(\n",
    "    monitor='val_accuracy',\n",
    "    factor=0.5,\n",
    "    patience=7,\n",
    "    min_lr=1e-7,\n",
    "    verbose=1,\n",
    ")\n",
    "\n",
    "callbacks = [\n",
    "    early_stopping,\n",
    "    lr_scheduler,\n",
    "]"
   ]
  },
  {
   "cell_type": "code",
   "execution_count": 18,
   "metadata": {},
   "outputs": [],
   "source": [
    "# creating images for increasing data\n",
    "\n",
    "gen = ImageDataGenerator(\n",
    "    rotation_range = 15,\n",
    "    width_shift_range = 0.15,\n",
    "    height_shift_range = 0.15,\n",
    "    shear_range = 0.15,\n",
    "    zoom_range = 0.15,\n",
    "    horizontal_flip = True\n",
    ")\n",
    "gen.fit(X_train)"
   ]
  },
  {
   "cell_type": "code",
   "execution_count": 24,
   "metadata": {},
   "outputs": [
    {
     "name": "stdout",
     "output_type": "stream",
     "text": [
      "Epoch 1/100\n",
      "1009/1009 [==============================] - 48s 47ms/step - loss: 1.1416 - accuracy: 0.5720 - val_loss: 1.0568 - val_accuracy: 0.6147\n",
      "Epoch 2/100\n",
      "1009/1009 [==============================] - 48s 47ms/step - loss: 1.1307 - accuracy: 0.5772 - val_loss: 1.0325 - val_accuracy: 0.6199\n",
      "Epoch 3/100\n",
      "1009/1009 [==============================] - 48s 47ms/step - loss: 1.1145 - accuracy: 0.5844 - val_loss: 0.9950 - val_accuracy: 0.6294\n",
      "Epoch 4/100\n",
      "1009/1009 [==============================] - 48s 47ms/step - loss: 1.1091 - accuracy: 0.5881 - val_loss: 0.9958 - val_accuracy: 0.6255\n",
      "Epoch 5/100\n",
      "1009/1009 [==============================] - 48s 47ms/step - loss: 1.0956 - accuracy: 0.5953 - val_loss: 1.1946 - val_accuracy: 0.6358\n",
      "Epoch 6/100\n",
      "1009/1009 [==============================] - 48s 48ms/step - loss: 1.0799 - accuracy: 0.5981 - val_loss: 0.9740 - val_accuracy: 0.6498\n",
      "Epoch 7/100\n",
      "1009/1009 [==============================] - 48s 48ms/step - loss: 1.0737 - accuracy: 0.6011 - val_loss: 0.9816 - val_accuracy: 0.6417\n",
      "Epoch 8/100\n",
      "1009/1009 [==============================] - 48s 48ms/step - loss: 1.0687 - accuracy: 0.6060 - val_loss: 0.9808 - val_accuracy: 0.6447\n",
      "Epoch 9/100\n",
      "1009/1009 [==============================] - 48s 48ms/step - loss: 1.0564 - accuracy: 0.6092 - val_loss: 0.9621 - val_accuracy: 0.6467\n",
      "Epoch 10/100\n",
      "1009/1009 [==============================] - 48s 48ms/step - loss: 1.0432 - accuracy: 0.6121 - val_loss: 1.0811 - val_accuracy: 0.6069\n",
      "Epoch 11/100\n",
      "1009/1009 [==============================] - 48s 48ms/step - loss: 1.0398 - accuracy: 0.6166 - val_loss: 0.9539 - val_accuracy: 0.6534\n",
      "Epoch 12/100\n",
      "1009/1009 [==============================] - 48s 48ms/step - loss: 1.0327 - accuracy: 0.6175 - val_loss: 0.9318 - val_accuracy: 0.6562\n",
      "Epoch 13/100\n",
      "1009/1009 [==============================] - 48s 48ms/step - loss: 1.0270 - accuracy: 0.6183 - val_loss: 0.9527 - val_accuracy: 0.6509\n",
      "Epoch 14/100\n",
      "1009/1009 [==============================] - 49s 48ms/step - loss: 1.0139 - accuracy: 0.6241 - val_loss: 0.9651 - val_accuracy: 0.6411\n",
      "Epoch 15/100\n",
      "1009/1009 [==============================] - 48s 48ms/step - loss: 1.0126 - accuracy: 0.6240 - val_loss: 0.9350 - val_accuracy: 0.6592\n",
      "Epoch 16/100\n",
      "1009/1009 [==============================] - 49s 49ms/step - loss: 1.0092 - accuracy: 0.6286 - val_loss: 0.9273 - val_accuracy: 0.6615\n",
      "Epoch 17/100\n",
      "1009/1009 [==============================] - 49s 49ms/step - loss: 1.0010 - accuracy: 0.6299 - val_loss: 0.9093 - val_accuracy: 0.6637\n",
      "Epoch 18/100\n",
      "1009/1009 [==============================] - 49s 48ms/step - loss: 0.9972 - accuracy: 0.6305 - val_loss: 0.9125 - val_accuracy: 0.6673\n",
      "Epoch 19/100\n",
      "1009/1009 [==============================] - 48s 48ms/step - loss: 0.9911 - accuracy: 0.6324 - val_loss: 0.9856 - val_accuracy: 0.6350\n",
      "Epoch 20/100\n",
      "1009/1009 [==============================] - 48s 48ms/step - loss: 0.9803 - accuracy: 0.6366 - val_loss: 0.8974 - val_accuracy: 0.6771\n",
      "Epoch 21/100\n",
      "1009/1009 [==============================] - 48s 48ms/step - loss: 0.9803 - accuracy: 0.6378 - val_loss: 0.9015 - val_accuracy: 0.6782\n",
      "Epoch 22/100\n",
      "1009/1009 [==============================] - 48s 48ms/step - loss: 0.9739 - accuracy: 0.6408 - val_loss: 0.9215 - val_accuracy: 0.6668\n",
      "Epoch 23/100\n",
      "1009/1009 [==============================] - 48s 48ms/step - loss: 0.9707 - accuracy: 0.6415 - val_loss: 0.9097 - val_accuracy: 0.6762\n",
      "Epoch 24/100\n",
      "1009/1009 [==============================] - 48s 48ms/step - loss: 0.9647 - accuracy: 0.6416 - val_loss: 0.8997 - val_accuracy: 0.6743\n",
      "Epoch 25/100\n",
      "1009/1009 [==============================] - 48s 48ms/step - loss: 0.9682 - accuracy: 0.6416 - val_loss: 0.9194 - val_accuracy: 0.6676\n",
      "Epoch 26/100\n",
      "1009/1009 [==============================] - 48s 48ms/step - loss: 0.9637 - accuracy: 0.6439 - val_loss: 0.9156 - val_accuracy: 0.6729\n",
      "Epoch 27/100\n",
      "1009/1009 [==============================] - 48s 48ms/step - loss: 0.9598 - accuracy: 0.6467 - val_loss: 0.9079 - val_accuracy: 0.6751\n",
      "Epoch 28/100\n",
      "1009/1009 [==============================] - 48s 48ms/step - loss: 0.9533 - accuracy: 0.6504 - val_loss: 0.9008 - val_accuracy: 0.6776\n",
      "\n",
      "Epoch 00028: ReduceLROnPlateau reducing learning rate to 0.0005000000237487257.\n",
      "Epoch 29/100\n",
      "1009/1009 [==============================] - 48s 48ms/step - loss: 0.9330 - accuracy: 0.6584 - val_loss: 0.8868 - val_accuracy: 0.6765\n",
      "Epoch 30/100\n",
      "1009/1009 [==============================] - 48s 47ms/step - loss: 0.9200 - accuracy: 0.6651 - val_loss: 0.9084 - val_accuracy: 0.6737\n",
      "Epoch 31/100\n",
      "1009/1009 [==============================] - 48s 47ms/step - loss: 0.9171 - accuracy: 0.6633 - val_loss: 0.8992 - val_accuracy: 0.6782\n",
      "Epoch 32/100\n",
      "1009/1009 [==============================] - 48s 48ms/step - loss: 0.9051 - accuracy: 0.6676 - val_loss: 0.9053 - val_accuracy: 0.6732\n",
      "Restoring model weights from the end of the best epoch.\n",
      "Epoch 00032: early stopping\n"
     ]
    },
    {
     "data": {
      "text/plain": [
       "<tensorflow.python.keras.callbacks.History at 0x7f94605a4b50>"
      ]
     },
     "execution_count": 24,
     "metadata": {},
     "output_type": "execute_result"
    }
   ],
   "source": [
    "# training the model\n",
    "\n",
    "model.fit(\n",
    "    gen.flow(X_train, y_train, batch_size=32),\n",
    "    validation_data = (X_valid, y_valid),\n",
    "    steps_per_epoch = len(X_train) / 32,\n",
    "    epochs = 100,\n",
    "    callbacks = callbacks,\n",
    "    use_multiprocessing = True\n",
    ")"
   ]
  },
  {
   "cell_type": "code",
   "execution_count": 25,
   "metadata": {},
   "outputs": [],
   "source": [
    "#Saving the  model to  use it later on  \n",
    "\n",
    "fer_json = model.to_json()  \n",
    "with open(\"fer.json\", \"w\") as json_file:  \n",
    "    json_file.write(fer_json)  \n",
    "model.save_weights(\"fer.h5\")  "
   ]
  },
  {
   "cell_type": "markdown",
   "metadata": {},
   "source": [
    "# Model Evaluation"
   ]
  },
  {
   "cell_type": "code",
   "execution_count": 29,
   "metadata": {},
   "outputs": [
    {
     "name": "stdout",
     "output_type": "stream",
     "text": [
      "              precision    recall  f1-score   support\n",
      "\n",
      "           0       0.54      0.71      0.61       495\n",
      "           1       0.87      0.47      0.61        55\n",
      "           2       0.60      0.36      0.45       512\n",
      "           3       0.91      0.86      0.88       899\n",
      "           4       0.53      0.58      0.56       608\n",
      "           5       0.78      0.80      0.79       400\n",
      "           6       0.63      0.69      0.66       620\n",
      "\n",
      "    accuracy                           0.68      3589\n",
      "   macro avg       0.69      0.64      0.65      3589\n",
      "weighted avg       0.69      0.68      0.68      3589\n",
      "\n"
     ]
    }
   ],
   "source": [
    "predictions = model.predict(X_valid)\n",
    "print(classification_report(np.argmax(y_valid, axis=1), np.argmax(predictions, axis=1)))"
   ]
  },
  {
   "cell_type": "code",
   "execution_count": 40,
   "metadata": {},
   "outputs": [
    {
     "data": {
      "text/plain": [
       "<AxesSubplot:>"
      ]
     },
     "execution_count": 40,
     "metadata": {},
     "output_type": "execute_result"
    },
    {
     "data": {
      "image/png": "[encoded data removed]",
      "text/plain": [
       "<Figure size 720x720 with 2 Axes>"
      ]
     },
     "metadata": {
      "needs_background": "light"
     },
     "output_type": "display_data"
    }
   ],
   "source": [
    "plt.figure(figsize = (10,10))\n",
    "sns.heatmap(confusion_matrix(np.argmax(y_valid, axis=1), np.argmax(predictions, axis=1)),\n",
    "            xticklabels = lookup,\n",
    "            yticklabels = lookup,\n",
    "            annot = True\n",
    ")"
   ]
  },
  {
   "cell_type": "code",
   "execution_count": null,
   "metadata": {},
   "outputs": [],
   "source": []
  }
 ],
 "metadata": {
  "kernelspec": {
   "display_name": "Python 3",
   "language": "python",
   "name": "python3"
  },
  "language_info": {
   "codemirror_mode": {
    "name": "ipython",
    "version": 3
   },
   "file_extension": ".py",
   "mimetype": "text/x-python",
   "name": "python",
   "nbconvert_exporter": "python",
   "pygments_lexer": "ipython3",
   "version": "3.8.5"
  }
 },
 "nbformat": 4,
 "nbformat_minor": 4
}
